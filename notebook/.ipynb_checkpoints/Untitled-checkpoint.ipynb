{
 "cells": [
  {
   "cell_type": "markdown",
   "metadata": {},
   "source": [
    "## Standard Form\n",
    "\n",
    "$\\max c^Tx+d$\\\n",
    "$s.t. Ax \\leq b$\\\n",
    "$x \\geq 0$"
   ]
  },
  {
   "attachments": {},
   "cell_type": "markdown",
   "metadata": {},
   "source": [
    "## For Possible Cases For LP Problems\n",
    "\n",
    "1. The LP is feasible and has an optimal solution.(The single solution lies at the extreme point)\n",
    "\n",
    "<img src=\"oneSol.png\" style=\"zoom:40%\" />\n",
    "\n",
    "2. There are infinitely many solutions, and they lie along a face of the polyhedron. We say the LP is feasible and has an optimal solution."
   ]
  },
  {
   "cell_type": "code",
   "execution_count": null,
   "metadata": {},
   "outputs": [],
   "source": []
  }
 ],
 "metadata": {
  "kernelspec": {
   "display_name": "Julia 1.3.1",
   "language": "julia",
   "name": "julia-1.3"
  },
  "language_info": {
   "file_extension": ".jl",
   "mimetype": "application/julia",
   "name": "julia",
   "version": "1.3.1"
  }
 },
 "nbformat": 4,
 "nbformat_minor": 4
}
