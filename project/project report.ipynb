{
 "cells": [
  {
   "cell_type": "markdown",
   "metadata": {},
   "source": [
    "## Data preprocessing\n",
    "\n",
    "Not all of those 605 variables are used in the model, so I preprocessed the data and classified the data I need to use. We divide the energy sources into two categories for the further analysis, one is renewable energy like electricity, ethanol fuel, nuclear fuel, wood etc.; the other is the unrenewable energyoil, gasoline, petroleum, coal, natural gas.\n",
    "\n",
    "<!-- |Abbreviation|Full Name|Asphalt and road oil|Aviation gasoline|Coal|Crude oil|Distillate fuel oil|Electricity|Fuel ethanol|Fossil fuel|Petrochemical feedstocks|\n",
    "|----|---|---|---|---|---|---|---|---|---|---|\n",
    "|UC|Unrenewable Consumption|12|24|84|88|173|150|178|187|\n",
    "|UPR|Unrenewable Price |13| 25|83|      |116|170| ||188|\n",
    "|UED|Unrenewable Expenditure|15|27|85||118|176|144||190|\n",
    "|UE|Unrenewable Export| | |29|           |   |123||||\n",
    "|UI|Unrenewable Import| | |  |           |   |127||||\n",
    "|UP|Unrenewable Production| | |  |       |   ||148|||\n",
    "\n",
    "|Abbreviation|Full Name|Geothermal energy|\n",
    "|----|---|---|\n",
    "|UC|Unrenewable Consumption|199|\n",
    "|UPR|Unrenewable Price ||\n",
    "|UED|Unrenewable Expenditure||\n",
    "|UE|Unrenewable Export| |\n",
    "|UI|Unrenewable Import| |\n",
    "|UP|Unrenewable Production| | -->\n"
   ]
  },
  {
   "cell_type": "markdown",
   "metadata": {},
   "source": [
    "## Energy Proﬁle for each state\n",
    "\n",
    "We selected several important variables for energy profile as below:\n",
    "\n",
    "|Abbreviation|Full Name|\n",
    "|------|---|\n",
    "|RC|Renewable Consumption|\n",
    "|UC|Unrenewable Consumption|\n",
    "|RP|Renewable Production|\n",
    "|UP|Unrenewable Production|\n",
    "|RI|Renewable Import|\n",
    "|RE|Renewable Export|\n",
    "|RED|Renewable Expenditure|\n",
    "|UED|Unrenewable Expenditure|\n",
    "|CPC|Consumption Per Capita|\n",
    "|EPC|Expenditure Per Capita|\n",
    "|RPES|Renewable Production Entropy by Source|\n",
    "|UPES|Unrenewable Production Entropy by Source|\n",
    "|RCES|Renewable Consumption Entropy by Source|\n",
    "|UCES|Unrenewable Production Entropy by Source|\n",
    "|SRP|Share of Renewable Production|\n",
    "|SRC|Share of Renewable Consumption|\n",
    "|RCPR|Renewable Consumption-Production Ratio|\n",
    "|TCPR|Total Consumption-Production Ratio|\n",
    "|RCEES|Renewable Consumption Entropy by End-use Sector|\n",
    "|UCEES|Unrenewable Consumption Entropy by End-use Sector|"
   ]
  },
  {
   "cell_type": "code",
   "execution_count": null,
   "metadata": {},
   "outputs": [],
   "source": []
  }
 ],
 "metadata": {
  "kernelspec": {
   "display_name": "Julia 1.3.1",
   "language": "julia",
   "name": "julia-1.3"
  },
  "language_info": {
   "file_extension": ".jl",
   "mimetype": "application/julia",
   "name": "julia",
   "version": "1.3.1"
  }
 },
 "nbformat": 4,
 "nbformat_minor": 4
}
