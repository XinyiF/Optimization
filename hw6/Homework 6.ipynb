{
 "cells": [
  {
   "cell_type": "markdown",
   "metadata": {},
   "source": [
    "# Homework \\#6\n",
    "Due August 5 @ 11:59pm\n",
    "\n",
    "## Submission requirements\n",
    "Upload a **single PDF file** of your IJulia notebook for this entire assigment. Clearly denote which question each section of your PDF corresponds to."
   ]
  },
  {
   "cell_type": "markdown",
   "metadata": {},
   "source": [
    "## Problem 1 -- Vehicle Routing\n",
    "\n",
    "A local bakeshop wants determine the minimum cost plan for picking up its daily supply of milk, butter, and eggs from the four farms that supply the bakeshop.  The distance (in miles) between the bakeshop (B) and each farm, and also between each pair of farms, is given in the table below. The table also gives the volume of milk, butter, and eggs (total, in ft$^3$) to be collected from\n",
    "each farm each day. (The distance between locations is the same in both directions, so for each pair of locations the distance is only reported once.)\n",
    "\n",
    "| |B | F1 | F2| F3 | F4 |\n",
    "|:--|:--|:--|:--|:--|:--|\n",
    "|B| - | 5 | 12 | 7 | 15|\n",
    "|F1| - | - | 4 | 10 | 7 |\n",
    "|F2| - | - | - | 14 | 20|\n",
    "|F3| - | - | - | - |8 |\n",
    "| | F1 | F2 | F3 | F4 |\n",
    "|Supply (ft$^3$)|  7 | 2 | 6 | 3 |\n",
    "\n",
    "The bakeshop has one truck that can carry at most 10 ft$^3$ of supplies at a time. Because of the size limit, the\n",
    "truck will need to make multiple trips each day to collect the supplies from all the farms. Each trip may pick up supplies from one or more farms, provided the total collected in the trip does not exceed the truck limit. \n",
    "\n",
    "Formulate an integer program to help the bakeshop assign farms to the trips so that the total number of trips required every day is minimized  (Hint: model the problem as a set covering problem. The first step will be to list all possible routes a truck can take.)"
   ]
  },
  {
   "cell_type": "code",
   "execution_count": 32,
   "metadata": {},
   "outputs": [
    {
     "data": {
      "text/plain": [
       "1-dimensional DenseAxisArray{Float64,1,...} with index sets:\n",
       "    Dimension 1, [1, 2, 3, 4, 5]\n",
       "And data, a 5-element Array{Float64,1}:\n",
       "  0.0\n",
       "  1.0\n",
       "  1.0\n",
       " -0.0\n",
       " -0.0"
      ]
     },
     "metadata": {},
     "output_type": "display_data"
    },
    {
     "name": "stdout",
     "output_type": "stream",
     "text": [
      "Academic license - for non-commercial use only\n",
      "Academic license - for non-commercial use only\n",
      "The 1-th farm in trip1 is F1\n",
      "The 2-th farm in trip1 is F4\n",
      "The 1-th farm in trip2 is F2\n",
      "The 2-th farm in trip2 is F3\n"
     ]
    }
   ],
   "source": [
    "using JuMP, Gurobi, NamedArrays\n",
    "\n",
    "# farms and possible routes\n",
    "farms = [1,2,3,4]\n",
    "route = [1,2,3,4,5]\n",
    "\n",
    "# possible routes for one trip\n",
    "trip = [1 1 0 0\n",
    "        1 0 0 1\n",
    "        0 1 1 0 \n",
    "        0 1 0 1\n",
    "        0 0 1 1]\n",
    "\n",
    "\n",
    "# A is a matrix for distances\n",
    "A=[5 12 7 15\n",
    "   0 4 10 7\n",
    "   0 0 14 20\n",
    "   0 0 0 8]\n",
    "\n",
    "m = Model(Gurobi.Optimizer)\n",
    "set_optimizer_attribute(m, \"OutputFlag\", 0)\n",
    "\n",
    "# binary variable for whether we build a station in each city\n",
    "@variable(m, x[route], Bin)\n",
    "\n",
    "for col in farms\n",
    "     @constraint(m, sum(trip[row,col]x[row] for row in route ) >= 1)\n",
    "end\n",
    "\n",
    "@objective(m, Min, sum(x))\n",
    "                \n",
    "optimize!(m)\n",
    "x=value.(x)\n",
    "display(x)\n",
    "j=1\n",
    "for r in route\n",
    "    if x[r] == 1\n",
    "        i=1\n",
    "        for f in farms\n",
    "            if trip[r,f]==1\n",
    "                println(\"The \",i,\"-th farm in trip\",j,\" is F\",f)\n",
    "                i+=1\n",
    "            end\n",
    "            \n",
    "        end\n",
    "        j+=1\n",
    "    end\n",
    "    \n",
    "end\n",
    "\n"
   ]
  },
  {
   "cell_type": "markdown",
   "metadata": {},
   "source": [
    "## Problem 2 -- The Magical Baked Goods Machine\n",
    "\n",
    "Suppose you are in charge of a magical baked goods machine that creates delicious baked goods of many varieties. Every day, the machine creates batches of 5 different baked goods. To produce a batch of a baked good, you must first clean the machine to remove the remnants of the previous batch of bakery treats (e.g., the workflow could be, \"clean, make bread, clean, make donuts,...\"). The durations of baking each of the 5 items (donuts, bread, cookies, scones, and coffee cake) are 40, 32, 50, 28, and 47 minutes respectively. The cleaning times depend on the item that was previously made in the machine. For example, a long cleaning period is required if bread is made after scones, since the scones leave a sticky residue from the dried fruit they contain that can ruin the bread. The times are given in minutes in the following table. Each pair $(i,j)$ is the cleaning time required if batch $j$ is baked after batch $i$.\n",
    "\n",
    "|Baked good|Donut|Scone|Cookie|Bread|Coffee Cake|\n",
    "|:---|:---|:----|:---|:---|:---|\n",
    "|Donut|0|10|6|15|9|\n",
    "|Scone|4|0|6|17|8|\n",
    "|Cookie|10|11|0|20|14|\n",
    "|Bread|7|15|6|0|2|\n",
    "|Coffee Cake|5|8|7|7|0|\n",
    "\n",
    "We'd obviously like to spend as little time as possible baking and cleaning. What order should we produce the 5 bakery items in? How long do we spend baking and cleaning each day? The order is the same every day, so the cleaning time between the last batch of one week and the first of the following week needs to be accounted for in the total duration of cleaning.\n",
    "\n",
    "Solve this problem as a TSP. You may use either MTZ reformulation or subtour elimination (or both, for fun!)."
   ]
  },
  {
   "cell_type": "code",
   "execution_count": 25,
   "metadata": {},
   "outputs": [
    {
     "data": {
      "text/plain": [
       "5×5 Named Array{Int64,2}\n",
       "  from ╲ to │      :Donut       :Scone      :Cookie       :Bread  :CoffeeCake\n",
       "────────────┼────────────────────────────────────────────────────────────────\n",
       ":Donut      │           0           10            6           15            9\n",
       ":Scone      │           4            0            6           17            8\n",
       ":Cookie     │          10           11            0           20           14\n",
       ":Bread      │           7           15            6            0            2\n",
       ":CoffeeCake │           5            8            7            7            0"
      ]
     },
     "metadata": {},
     "output_type": "display_data"
    },
    {
     "name": "stdout",
     "output_type": "stream",
     "text": [
      "5\n"
     ]
    }
   ],
   "source": [
    "using JuMP, NamedArrays, Gurobi\n",
    "\n",
    "goods = [:Donut, :Scone, :Cookie, :Bread, :CoffeeCake]\n",
    "\n",
    "times = [0 10 6 15 9\n",
    "         4 0 6 17 8\n",
    "         10 11 0 20 14\n",
    "         7 15 6 0 2\n",
    "         5 8 7 7 0]\n",
    "\n",
    "c = NamedArray(times,(goods,goods),(\"from\",\"to\"))\n",
    "N = size(times,1);\n",
    "display(c)\n",
    "println(N)"
   ]
  },
  {
   "cell_type": "code",
   "execution_count": 30,
   "metadata": {},
   "outputs": [
    {
     "data": {
      "text/plain": [
       "getAllSubtours (generic function with 1 method)"
      ]
     },
     "execution_count": 30,
     "metadata": {},
     "output_type": "execute_result"
    }
   ],
   "source": [
    "function getSubtour(x,start)\n",
    "    subtour = [start]\n",
    "    while true\n",
    "        j = subtour[end]\n",
    "        for k in goods\n",
    "            if x[k,j] == 1\n",
    "                push!(subtour,k)\n",
    "                break\n",
    "            end\n",
    "        end\n",
    "        if subtour[end] == start\n",
    "            break\n",
    "        end\n",
    "    end\n",
    "    return subtour\n",
    "end\n",
    "\n",
    "function getAllSubtours(x)\n",
    "    nodesRemaining = goods\n",
    "    subtours = []\n",
    "    while length(nodesRemaining) > 0\n",
    "        subtour = getSubtour(x,nodesRemaining[1])\n",
    "        push!(subtours, subtour)\n",
    "        nodesRemaining = setdiff(nodesRemaining,subtour)\n",
    "    end\n",
    "    return subtours\n",
    "end"
   ]
  },
  {
   "cell_type": "code",
   "execution_count": 31,
   "metadata": {},
   "outputs": [
    {
     "data": {
      "text/plain": [
       "1-element Array{Any,1}:\n",
       " Symbol[:Donut, :Scone, :Cookie, :Bread, :CoffeeCake, :Donut]"
      ]
     },
     "metadata": {},
     "output_type": "display_data"
    },
    {
     "name": "stdout",
     "output_type": "stream",
     "text": [
      "Academic license - for non-commercial use only\n",
      "Academic license - for non-commercial use only\n",
      "Total times: 37.0\n"
     ]
    }
   ],
   "source": [
    "m = Model(Gurobi.Optimizer)\n",
    "set_optimizer_attribute(m, \"OutputFlag\", 0)\n",
    "\n",
    "@variable(m, x[goods,goods], Bin)                                 \n",
    "@constraint(m, c1[j in goods], sum( x[i,j] for i in goods ) == 1)      \n",
    "@constraint(m, c2[i in goods], sum( x[i,j] for j in goods ) == 1) \n",
    "@constraint(m, c3[i in goods], x[i,i] == 0 )                       \n",
    "@objective(m, Min, sum( x[i,j]*c[i,j] for i in goods, j in goods ))   \n",
    "\n",
    "@variable(m, u[goods])\n",
    "@constraint(m, c4[i in goods, j in goods[2:end]], u[i] - u[j] + N*x[i,j] <= N-1 )\n",
    "\n",
    "optimize!(m)\n",
    "xx = value.(x)\n",
    "subtours = getAllSubtours(xx) \n",
    "display(subtours)\n",
    "println(\"Total times: \", objective_value(m))\n",
    "                                    "
   ]
  },
  {
   "cell_type": "code",
   "execution_count": null,
   "metadata": {},
   "outputs": [],
   "source": []
  }
 ],
 "metadata": {
  "kernelspec": {
   "display_name": "Julia 1.3.1",
   "language": "julia",
   "name": "julia-1.3"
  },
  "language_info": {
   "file_extension": ".jl",
   "mimetype": "application/julia",
   "name": "julia",
   "version": "1.3.1"
  }
 },
 "nbformat": 4,
 "nbformat_minor": 4
}
