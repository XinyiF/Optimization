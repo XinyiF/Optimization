{
 "cells": [
  {
   "cell_type": "code",
   "execution_count": 2,
   "metadata": {},
   "outputs": [
    {
     "data": {
      "image/png": "[encoded data removed]",
      "text/plain": [
       "Figure(PyObject <Figure size 800x400 with 1 Axes>)"
      ]
     },
     "metadata": {},
     "output_type": "display_data"
    }
   ],
   "source": [
    "# define (x,y) coordinates of the points\n",
    "x = [ 1, 2, 3, 4, 5, 6, 7, 8, 9 ]\n",
    "y = [ 1, 3, 0, 1, 2, 4, 6, 7, 5 ]\n",
    "\n",
    "# We can use the PyPlot package to graph these points\n",
    "using PyPlot\n",
    "figure(figsize=(8,4))\n",
    "plot(x,y,\"r.\", markersize=10)\n",
    "axis([0,10,-2,8])\n",
    "grid()"
   ]
  },
  {
   "cell_type": "code",
   "execution_count": 3,
   "metadata": {},
   "outputs": [
    {
     "data": {
      "text/plain": [
       "9×4 Array{Float64,2}:\n",
       "   1.0   1.0  1.0  1.0\n",
       "   8.0   4.0  2.0  1.0\n",
       "  27.0   9.0  3.0  1.0\n",
       "  64.0  16.0  4.0  1.0\n",
       " 125.0  25.0  5.0  1.0\n",
       " 216.0  36.0  6.0  1.0\n",
       " 343.0  49.0  7.0  1.0\n",
       " 512.0  64.0  8.0  1.0\n",
       " 729.0  81.0  9.0  1.0"
      ]
     },
     "metadata": {},
     "output_type": "display_data"
    }
   ],
   "source": [
    "# order of polynomial to use\n",
    "k = 3\n",
    "\n",
    "# fit using a function of the form f(x) = p x^k + q x^(k-1) + ... + rk x + s\n",
    "\n",
    "# our matrix A will need to have m rows, where m is the number of data points\n",
    "m = length(x)\n",
    "# initialize A to be a matrix of zeros with m rows and k+1 columns\n",
    "# (there will be coefficients on x^3, x^2, x^1, and x^0, so 4 columns)\n",
    "A = zeros(m,k+1)\n",
    "\n",
    "# now loop over each row and each column\n",
    "# the ij'th entry of A will be x_i ^ (k+1 - j)\n",
    "# e.g., row 1 column 1: x_1 ^ (4-1) = x_1^3\n",
    "for i = 1:m\n",
    "    for j = 1:k+1\n",
    "        A[i,j] = x[i]^(k+1-j)\n",
    "    end\n",
    "end\n",
    "display(A)"
   ]
  },
  {
   "cell_type": "code",
   "execution_count": 1,
   "metadata": {},
   "outputs": [
    {
     "name": "stderr",
     "output_type": "stream",
     "text": [
      "┌ Info: Precompiling Gurobi [2e9cd046-0924-5485-92f1-d5272153d98b]\n",
      "└ @ Base loading.jl:1273\n"
     ]
    },
    {
     "ename": "ErrorException",
     "evalue": "Invalid Gurobi license",
     "output_type": "error",
     "traceback": [
      "Invalid Gurobi license",
      "",
      "Stacktrace:",
      " [1] error(::String) at ./error.jl:33",
      " [2] Env at /Users/user/.julia/packages/Gurobi/7YNJV/src/grb_env.jl:19 [inlined]",
      " [3] empty!(::Gurobi.Optimizer) at /Users/user/.julia/packages/Gurobi/7YNJV/src/MOI_wrapper.jl:175",
      " [4] (::Gurobi.var\"#Optimizer#34#35\")(::Base.Iterators.Pairs{Union{},Union{},Tuple{},NamedTuple{(),Tuple{}}}, ::Type{Gurobi.Optimizer}, ::Nothing) at /Users/user/.julia/packages/Gurobi/7YNJV/src/MOI_wrapper.jl:162",
      " [5] Optimizer at /Users/user/.julia/packages/Gurobi/7YNJV/src/MOI_wrapper.jl:151 [inlined] (repeats 2 times)",
      " [6] _instantiate_and_check(::Type) at /Users/user/.julia/packages/MathOptInterface/bygN7/src/instantiate.jl:56",
      " [7] #instantiate#39(::Type{Float64}, ::Bool, ::typeof(MathOptInterface.instantiate), ::Type) at /Users/user/.julia/packages/MathOptInterface/bygN7/src/instantiate.jl:107",
      " [8] (::MathOptInterface.var\"#kw##instantiate\")(::NamedTuple{(:with_bridge_type, :with_names),Tuple{DataType,Bool}}, ::typeof(MathOptInterface.instantiate), ::Type) at ./none:0",
      " [9] #set_optimizer#96(::Bool, ::typeof(set_optimizer), ::Model, ::Type) at /Users/user/.julia/packages/JuMP/MnJQc/src/optimizer_interface.jl:66",
      " [10] #Model#16 at ./none:0 [inlined]",
      " [11] Model(::Type) at /Users/user/.julia/packages/JuMP/MnJQc/src/JuMP.jl:233",
      " [12] top-level scope at In[1]:2"
     ]
    }
   ],
   "source": [
    "using JuMP, Gurobi\n",
    "\n",
    "m = Model(Gurobi.Optimizer)\n",
    "\n",
    "@variable(m, u[1:k+1])\n",
    "@objective(m, Min, sum( (y - A*u).^2 ) )\n",
    "\n",
    "optimize!(m)\n",
    "uopt = value.(u)\n",
    "println(uopt)"
   ]
  },
  {
   "cell_type": "code",
   "execution_count": null,
   "metadata": {},
   "outputs": [],
   "source": []
  }
 ],
 "metadata": {
  "kernelspec": {
   "display_name": "Julia 1.3.1",
   "language": "julia",
   "name": "julia-1.3"
  },
  "language_info": {
   "file_extension": ".jl",
   "mimetype": "application/julia",
   "name": "julia",
   "version": "1.3.1"
  }
 },
 "nbformat": 4,
 "nbformat_minor": 4
}
